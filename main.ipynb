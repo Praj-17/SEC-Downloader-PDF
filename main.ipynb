{
 "cells": [
  {
   "cell_type": "code",
   "execution_count": 7,
   "metadata": {},
   "outputs": [],
   "source": [
    "# from sec_edgar_downloader import Downloader\n",
    "from sec_downloader import Downloader\n",
    "\n",
    "# Initialize a downloader instance. Download filings to the current\n",
    "# working directory. Must declare company name and email address\n",
    "# to form a user-agent string that complies with the SEC Edgar's\n",
    "# programmatic downloading fair access policy.\n",
    "# More info: https://www.sec.gov/os/webmaster-faq#code-support\n",
    "# Company name and email are used to form a user-agent of the form:\n",
    "# User-Agent: <Company Name> <Email Address>\n",
    "dl = Downloader(\"MyCompanyName\", \"my.email@domain.com\")\n",
    "\n"
   ]
  },
  {
   "cell_type": "code",
   "execution_count": 19,
   "metadata": {},
   "outputs": [
    {
     "name": "stdout",
     "output_type": "stream",
     "text": [
      "[FilingMetadata(accession_number='0000320193-24-000006', form_type='10-Q', primary_doc_url='https://www.sec.gov/Archives/edgar/data/320193/000032019324000006/aapl-20231230.htm', items='', primary_doc_description='10-Q', filing_date='2024-02-02', report_date='2023-12-30', cik='0000320193', company_name='Apple Inc.', tickers=[Ticker(symbol='AAPL', exchange='Nasdaq')])]\n"
     ]
    }
   ],
   "source": [
    "metadatas = dl.get_filing_metadatas(\"AAPL\")\n",
    "print(metadatas)"
   ]
  },
  {
   "cell_type": "code",
   "execution_count": 20,
   "metadata": {},
   "outputs": [],
   "source": [
    "meta = metadatas[0]"
   ]
  },
  {
   "cell_type": "code",
   "execution_count": 21,
   "metadata": {},
   "outputs": [
    {
     "data": {
      "text/plain": [
       "'10-Q'"
      ]
     },
     "execution_count": 21,
     "metadata": {},
     "output_type": "execute_result"
    }
   ],
   "source": [
    "\n",
    "meta.accession_number\n",
    "meta.form_type"
   ]
  },
  {
   "cell_type": "code",
   "execution_count": 22,
   "metadata": {},
   "outputs": [
    {
     "data": {
      "text/plain": [
       "{'accession_number': '0000320193-24-000006',\n",
       " 'form_type': '10-Q',\n",
       " 'primary_doc_url': 'https://www.sec.gov/Archives/edgar/data/320193/000032019324000006/aapl-20231230.htm',\n",
       " 'items': '',\n",
       " 'primary_doc_description': '10-Q',\n",
       " 'filing_date': '2024-02-02',\n",
       " 'report_date': '2023-12-30',\n",
       " 'cik': '0000320193',\n",
       " 'company_name': 'Apple Inc.',\n",
       " 'tickers': [Ticker(symbol='AAPL', exchange='Nasdaq')]}"
      ]
     },
     "execution_count": 22,
     "metadata": {},
     "output_type": "execute_result"
    }
   ],
   "source": [
    "d = meta.__dict__\n",
    "d"
   ]
  },
  {
   "cell_type": "code",
   "execution_count": 1,
   "metadata": {},
   "outputs": [
    {
     "name": "stdout",
     "output_type": "stream",
     "text": [
      "Successfully created PDF: output.pdf\n"
     ]
    }
   ],
   "source": [
    "import pdfkit\n",
    "\n",
    "def convert_url_to_pdf(url, output_file):\n",
    "    try:\n",
    "        # Convert URL to PDF\n",
    "        pdfkit.from_url(url, output_file)\n",
    "        print(f\"Successfully created PDF: {output_file}\")\n",
    "    except Exception as e:\n",
    "        print(f\"An error occurred: {e}\")\n",
    "\n",
    "# Example Usage\n",
    "url = 'https://www.sec.gov/Archives/edgar/data/320193/000032019324000006/aapl-20231230.htm'\n",
    "output_file = 'output.pdf'\n",
    "convert_url_to_pdf(url, output_file)\n"
   ]
  }
 ],
 "metadata": {
  "kernelspec": {
   "display_name": "sec",
   "language": "python",
   "name": "python3"
  },
  "language_info": {
   "codemirror_mode": {
    "name": "ipython",
    "version": 3
   },
   "file_extension": ".py",
   "mimetype": "text/x-python",
   "name": "python",
   "nbconvert_exporter": "python",
   "pygments_lexer": "ipython3",
   "version": "3.12.3"
  }
 },
 "nbformat": 4,
 "nbformat_minor": 2
}
